{
 "cells": [
  {
   "cell_type": "markdown",
   "id": "696968d4-02e7-4576-afe4-bb0f74672a5a",
   "metadata": {},
   "source": [
    "1. Importing Libraries"
   ]
  },
  {
   "cell_type": "code",
   "execution_count": 22,
   "id": "e6509951-3119-450a-a7a6-2dffadd1effd",
   "metadata": {},
   "outputs": [],
   "source": [
    "from openai import OpenAI\n",
    "import requests\n",
    "from dotenv import load_dotenv\n",
    "import os\n",
    "from IPython.display import Markdown, display"
   ]
  },
  {
   "cell_type": "markdown",
   "id": "f22686fc-3e7c-4a28-90d6-5863bad8e26c",
   "metadata": {},
   "source": [
    "2. Connecting to API"
   ]
  },
  {
   "cell_type": "code",
   "execution_count": 25,
   "id": "c250ff05-d65c-4f37-a64d-4a2c8178f680",
   "metadata": {},
   "outputs": [],
   "source": [
    "load_dotenv(override=True)\n",
    "\n",
    "api_key = os.getenv('LLAMA4_API_KEY')"
   ]
  },
  {
   "cell_type": "code",
   "execution_count": 26,
   "id": "4f53641f-10f2-4ebc-8223-f03315d96493",
   "metadata": {},
   "outputs": [],
   "source": [
    "client = OpenAI(\n",
    "    base_url=\"https://openrouter.ai/api/v1\",\n",
    "    api_key= api_key,\n",
    ")"
   ]
  },
  {
   "cell_type": "markdown",
   "id": "2a4835d4-1c05-45c3-9037-c0644f02d042",
   "metadata": {},
   "source": [
    "3. Checking for Successful Connections"
   ]
  },
  {
   "cell_type": "code",
   "execution_count": 30,
   "id": "f93ff3c1-7eec-4062-ace6-efa9d8fa9e48",
   "metadata": {},
   "outputs": [
    {
     "name": "stdout",
     "output_type": "stream",
     "text": [
      "Hello Siddharth! Nice to meet you! I'm Llama, a large language model, and I'm here to chat with you. I'm excited to be having our first conversation. How are you doing today? Is there something specific you'd like to talk about or would you like me to suggest some topics?\n"
     ]
    }
   ],
   "source": [
    "message = \"Hello Llama, I am Siddharth, This is our first conversation\"\n",
    "completion = client.chat.completions.create(\n",
    "    model=\"meta-llama/llama-4-maverick:free\",\n",
    "    messages=[{\"role\":\"user\", \"content\":message}]\n",
    ")\n",
    "\n",
    "print(completion.choices[0].message.content)"
   ]
  },
  {
   "cell_type": "markdown",
   "id": "79981b93-acc3-4148-852e-769b65bf7f05",
   "metadata": {},
   "source": [
    "4. Function for Reading Resume "
   ]
  },
  {
   "cell_type": "code",
   "execution_count": 18,
   "id": "eb259015-4b66-4df9-a6bc-e87042a45572",
   "metadata": {},
   "outputs": [
    {
     "name": "stdout",
     "output_type": "stream",
     "text": [
      "Defaulting to user installation because normal site-packages is not writeable\n",
      "Collecting PyPDF2\n",
      "  Downloading pypdf2-3.0.1-py3-none-any.whl.metadata (6.8 kB)\n",
      "Downloading pypdf2-3.0.1-py3-none-any.whl (232 kB)\n",
      "Installing collected packages: PyPDF2\n",
      "Successfully installed PyPDF2-3.0.1\n",
      "Note: you may need to restart the kernel to use updated packages.\n"
     ]
    },
    {
     "name": "stderr",
     "output_type": "stream",
     "text": [
      "\n",
      "[notice] A new release of pip is available: 24.3.1 -> 25.1.1\n",
      "[notice] To update, run: python.exe -m pip install --upgrade pip\n"
     ]
    }
   ],
   "source": [
    "pip install PyPDF2"
   ]
  },
  {
   "cell_type": "code",
   "execution_count": 67,
   "id": "da9ba05c-9238-45ff-9b68-1f2d470754a4",
   "metadata": {},
   "outputs": [],
   "source": [
    "def summarize_resume(pdf_path):\n",
    "    \n",
    "    try:\n",
    "        with open(pdf_path, 'rb') as file:\n",
    "            reader = PdfReader(file)\n",
    "            resume_text = \"\"\n",
    "            for page in reader.pages:\n",
    "                resume_text += page.extract_text()\n",
    "    except Exception as e:\n",
    "        print(f\"Error reading PDF: {e}\")\n",
    "        return None\n",
    "\n",
    "## Defining Prompts\n",
    "    messages = [\n",
    "        {\"role\": \"system\", \"content\": \"You are an AI assistant that summarizes resumes. give the summary in paragraph. look for important points and tell for which domain the resume is suited. \"},\n",
    "        {\"role\": \"user\", \"content\": f\"Summarize the following resume:\\n\\n{resume_text}\"}\n",
    "    ]\n",
    "\n",
    "\n",
    "    try:\n",
    "        completion = client.chat.completions.create(\n",
    "            model=\"meta-llama/llama-4-maverick:free\",\n",
    "            messages=messages\n",
    "        )\n",
    "        \n",
    "        summary = completion.choices[0].message.content\n",
    "        # print(\"Summary:\\n\", summary)\n",
    "        return summary\n",
    "    except Exception as e:\n",
    "        print(f\"Error during completion: {e}\")\n",
    "        return None"
   ]
  },
  {
   "cell_type": "code",
   "execution_count": 69,
   "id": "5fc5c31e-3615-4378-810b-261c2595a833",
   "metadata": {},
   "outputs": [
    {
     "data": {
      "text/markdown": [
       "Here is a summary of the resume in a paragraph:\n",
       "\n",
       "Siddharth Jaiswal is a Computer Science and Engineering student with a specialization in Computational and Data Science. He has a strong foundation in technical skills such as Python, SQL, Tableau, and Qlik, as well as soft skills like storytelling, presentation, and analytical thinking. His work experience includes a virtual internship at TheSmartBridge where he designed interactive dashboards, consolidated data, and created tailored reports, resulting in significant improvements in data analysis and operational efficiency. He has also worked on various projects, including stock price prediction and global layoff analysis, showcasing his skills in data modeling, machine learning, and data visualization. His certifications in data analysis, SQL, and machine learning demonstrate his commitment to continuous learning. He has also achieved notable accomplishments in coding challenges and hackathons, highlighting his technical skills and innovative thinking.\n",
       "\n",
       "Based on the resume, Siddharth is suited for a career in the **Data Science** domain, specifically in roles related to **Business Analytics**, **Data Analysis**, and **Data Visualization**. His skills and experience make him a strong candidate for positions in industries that rely heavily on data-driven decision-making, such as finance, technology, and consulting."
      ],
      "text/plain": [
       "<IPython.core.display.Markdown object>"
      ]
     },
     "metadata": {},
     "output_type": "display_data"
    }
   ],
   "source": [
    "display(Markdown(summarize_resume(\"C:\\\\Users\\\\MANISH JAISWAL\\\\Downloads\\\\RESUME\\\\Siddharth_jaiswal_DA_Resume.pdf\")))"
   ]
  },
  {
   "cell_type": "code",
   "execution_count": 59,
   "id": "a5ded48e-78e3-481a-922a-2381e5511a14",
   "metadata": {},
   "outputs": [],
   "source": []
  },
  {
   "cell_type": "code",
   "execution_count": null,
   "id": "e128706a-579e-41b9-9ec4-74fffe32e917",
   "metadata": {},
   "outputs": [],
   "source": []
  }
 ],
 "metadata": {
  "kernelspec": {
   "display_name": "Python 3 (ipykernel)",
   "language": "python",
   "name": "python3"
  },
  "language_info": {
   "codemirror_mode": {
    "name": "ipython",
    "version": 3
   },
   "file_extension": ".py",
   "mimetype": "text/x-python",
   "name": "python",
   "nbconvert_exporter": "python",
   "pygments_lexer": "ipython3",
   "version": "3.12.3"
  }
 },
 "nbformat": 4,
 "nbformat_minor": 5
}
